{
 "cells": [
  {
   "cell_type": "markdown",
   "metadata": {},
   "source": [
    "# Playing with NH Ralph MVIC TDI data\n",
    "\n",
    "This is really just an exercise in figuring out this is not the data I want to try and make pretty pictures to spectral analysis with. It's useful to see the process for initially poking at FITS data, but a lot of work could have been avoided if I had RTFD [here](http://new-pds-rings-2.seti.org/newhorizons/SOC_INST_ICD.PDF)."
   ]
  },
  {
   "cell_type": "code",
   "execution_count": 14,
   "metadata": {
    "collapsed": true
   },
   "outputs": [],
   "source": [
    "# our routine imports\n",
    "import pyfits\n",
    "import numpy as np\n",
    "from matplotlib import pyplot as plt\n"
   ]
  },
  {
   "cell_type": "code",
   "execution_count": 3,
   "metadata": {
    "collapsed": false
   },
   "outputs": [
    {
     "name": "stdout",
     "output_type": "stream",
     "text": [
      "mc0_0032528036_0x536_sci_1.fit\tmc2_0032528036_0x536_sci_1.fit\r\n",
      "mc0_0032528036_0x536_sci_1.lbl\tmc2_0032528036_0x536_sci_1.lbl\r\n",
      "mc1_0032528036_0x536_sci_1.fit\tmc3_0032528036_0x536_sci_1.fit\r\n",
      "mc1_0032528036_0x536_sci_1.lbl\tmc3_0032528036_0x536_sci_1.lbl\r\n"
     ]
    }
   ],
   "source": [
    "# hooray for invoking shell comands\n",
    "!ls data/20070131_003252/"
   ]
  },
  {
   "cell_type": "code",
   "execution_count": 8,
   "metadata": {
    "collapsed": false
   },
   "outputs": [
    {
     "name": "stdout",
     "output_type": "stream",
     "text": [
      "Filename: data/20070131_003252/mc0_0032528036_0x536_sci_1.fit\n",
      "No.    Name         Type      Cards   Dimensions   Format\n",
      "0    PRIMARY     PrimaryHDU     294   (5024, 57)   float32   \n",
      "1                ImageHDU         7   (5024, 57)   float64   \n",
      "2                ImageHDU         8   (5024, 57)   float32   \n",
      "3                ImageHDU        15   (5024, 57)   int16   \n"
     ]
    }
   ],
   "source": [
    "# long, narrow swaths -- this matches \n",
    "fits_file = 'data/20070131_003252/mc0_0032528036_0x536_sci_1.fit'\n",
    "pyfits.info(fits_file)"
   ]
  },
  {
   "cell_type": "code",
   "execution_count": null,
   "metadata": {
    "collapsed": true
   },
   "outputs": [],
   "source": [
    "# From info below and http://new-pds-rings-2.seti.org/newhorizons/SOC_INST_ICD.PDF we can\n",
    "# see that this is really a time delay integrat mode capture. Not going to be fun, spectrally."
   ]
  },
  {
   "cell_type": "code",
   "execution_count": 10,
   "metadata": {
    "collapsed": false
   },
   "outputs": [
    {
     "data": {
      "text/plain": [
       "SIMPLE  =                    T / Written by IDL:  Wed Aug 27 09:59:15 2008      \n",
       "BITPIX  =                  -32 / IEEE single precision floating point           \n",
       "NAXIS   =                    2 / number of array dimensions                     \n",
       "NAXIS1  =                 5024                                                  \n",
       "NAXIS2  =                   57                                                  \n",
       "EXTEND  =                    T                                                  \n",
       "BZERO   =                    0 / no offset                                      \n",
       "BSCALE  =                    1 / default scaling factor                         \n",
       "MISSION = 'New Horizons'       / Mission name                                   \n",
       "HOSTNAME= 'NEW HORIZONS'       / Host name (PDS terminology)                    \n",
       "HOSTID  = 'NH      '           / Host ID (PDS terminology)                      \n",
       "INSTRU  = 'mvi     '           / Instrument                                     \n",
       "APID    = '0x536   '           / Application ID of science data                 \n",
       "MET     =             32528036 / First packet MET (from instrument or HS bus)   \n",
       "METEND  =             32528050 / Last packet MET (from instrument or HS bus)    \n",
       "MET_HK  =             32528022 / MET from housekeeping used in header           \n",
       "HSCOMPR = 'LOSSLESS'           / High-speed compression mode                    \n",
       "OBSCOMPL= 'COMPLETE'           / Observation completion status                  \n",
       "MISSPACK=                    0 / Missing CCSDS packets (-1 = N/A)               \n",
       "STARTMET=         32528028.132 / Actual start time (in MET seconds)             \n",
       "STOPMET =           32528050.0 / Actual stop time (in MET seconds)              \n",
       "DURMET  =    21.86800000071526 / Observation duration (in MET seconds)          \n",
       "METSRC  = 'HK_Info '           / Source of above three times                    \n",
       "EXPTIME =                  8.0 / Exposure time                                  \n",
       "ARCHDATE= '2007/031'           / Date of MOC archive file                       \n",
       "GRT     =     17927.7184734551 / Ground receipt time from STP                   \n",
       "DATE    = '2008-08-23T00:37:07' / Time file was created by SOC                  \n",
       "SOCVER  =                  1.0 / SOC pipeline software version                  \n",
       "SOCLOC  = 'TSOC    '           / SOC location where processed (TSOC or CSOC)    \n",
       "REQID   = '---     '           / Request ID                                     \n",
       "TARGET  = 'EARTH   '           / Target object                                  \n",
       "TARGTYPE= 'Not defined'        / Target object type                             \n",
       "CB1LOAD = 'JUPITER '           / Central Body 1 loaded                          \n",
       "CB2LOAD = 'JUPITER '           / Central Body 2 loaded                          \n",
       "CB3LOAD = 'JUPITER '           / Central Body 3 loaded                          \n",
       "REQDESC = '---     '           / Sequence description / notes                   \n",
       "REQCOMM = '---     '           / Sequence Comments                              \n",
       "SPCSEP  = '***GEOMETRY SECTION*************************************'            \n",
       "SPCQUAL = 'RECONSTRUCTED'      / QUALITY:  PREDICT (poor); RECONSTRUCTED        \n",
       "SPCSTAT = 'OK      '           / SPICE status [OK or INCOMPLETE ...]            \n",
       "SPCINST0= 'NH_RALPH_MVIC_RED'  / Starting SPICE Instrument or FRAME             \n",
       "SPCINSTR= 'NH_RALPH_MVIC_RED'  / Final SPICE Instrument or FRAME                \n",
       "SPCMET0 =         32528028.132 / RAW MET timestamp                              \n",
       "SPCMETDL=    10.93400000035763 / [s] delta, (Mid-obs time) - (RAW MET)          \n",
       "SPCCBTNM= 'EARTH   '           / [text] Target input name                       \n",
       "SPCCB1NM= 'JUPITER '           / [text] CB1 input name                          \n",
       "SPCCB2NM= 'JUPITER '           / [text] CB2 input name                          \n",
       "SPCCB3NM= 'JUPITER '           / [text] CB3 input name                          \n",
       "SPCCBTID=                  399 / [SPICE ID] Target                              \n",
       "SPCCB1ID=                  599 / [SPICE ID] CB1                                 \n",
       "SPCCB2ID=                  599 / [SPICE ID] CB2                                 \n",
       "SPCCB3ID=                  599 / [SPICE ID] CB3                                 \n",
       "SPCSCLK0= '1/0032528028:06600' / Spacecraft CLocK timestamp                     \n",
       "SPCINSID=               -98206 / [SPICE ID] Instrument                          \n",
       "SPCSCID =                  -98 / [SPICE ID] Spacecraft                          \n",
       "SPCSCNAM= 'NH_SPACECRAFT'      / [SPICE Name] Spacecraft                        \n",
       "SPCSCET =    223494186.6353685 / [s past J2000] Spacecraft mid-obs time, TDB    \n",
       "SPCSCLK = '1/0032528039:03300' / Mid-obs Spacecraft CLocK                       \n",
       "SPCSCDP =      1626401953300.0 / [SCLK milli-ticks] Spacecraft mid-obs time     \n",
       "SPCUTCID= '2007-031T05:42:01.451' / [ISO DOY] Spacecraft mid-obs time, UTC      \n",
       "SPCUTCAL= '2007-01-31T05:42:01.451' / [Cal d] Spacecraft mid-obs time, UTC      \n",
       "SPCUTCJD= 'JD 2454131.7375168' / [Julian d] Spacecraft mid-obs time, UTC        \n",
       "SPCPSEP = '******INSTRUMENT POINTING*******************************'            \n",
       "SPCBRRA =    231.0687965094614 / [degrees] Boresight RA, EME J2000              \n",
       "SPCBRDEC=    -23.0334747733602 / [degrees] Boresight DEC, EME J2000             \n",
       "SPCEMEN =    289.1791277248273 / [degrees] EME J2k North Clk Angle, CW from UP  \n",
       "SPCPAXIN=               -999.0 / [degrees] Instr +X Pos ang, E from EMEJ2k N    \n",
       "SPCPAYIN=    289.1791277248273 / [degrees] Instr +Y Pos ang, E from EMEJ2k N    \n",
       "SPCPAZIN=     19.1791277248273 / [degrees] Instr +Z Pos ang, E from EMEJ2k N    \n",
       "SPCQA   =   0.8574677856562172 / cos(theta/2)     - Quaternion to transform     \n",
       "SPCQX   =   0.2321503203618095 / sin(theta/2) * X -   instrument vectors        \n",
       "SPCQY   =  -0.1072729330904568 / sin(theta/2) * Y -   to EME J2000 vectors      \n",
       "SPCQZ   =     0.44648375462485 / sin(theta/2) * Z -   ***N.B. SPICE FORMAT      \n",
       "SPCTSEP0= '******Target:  Target->S/C****************************'              \n",
       "SPCTCB  = 'EARTH   '           / [SPICE name] Target name                       \n",
       "SPCTSCX =   -217587062.2217285 / [km] S/C vec wrt Target, X, EMEJ2000           \n",
       "SPCTSCY =   -737432076.0635854 / [km] S/C vec wrt Target, Y                     \n",
       "SPCTSCZ =   -309513701.4856545 / [km] S/C vec wrt Target, Z                     \n",
       "SPCTSCVX=    23.20784432214216 / [km/s] S/C vel vec wrt Target, X               \n",
       "SPCTSCVY= -0.06681342505378041 / [km/s] S/C vel vec wrt Target, Y               \n",
       "SPCTSCVZ=    0.130853872659074 / [km/s] S/C vel vec wrt Target, Z               \n",
       "SPCTRANG=     828823821.967662 / [km] S/C range to Target center                \n",
       "SPCTTGJD= 'JD 2454131.7055184' / [Julian d] Time at Target, UTC                 \n",
       "SPCTSEP1= '******Target:  Target->Sun****************************'              \n",
       "SPCTSOX =    96348757.15629457 / [km] Sun vec wrt Target, X, EMEJ2000           \n",
       "SPCTSOY =   -102316768.1008205 / [km] Sun vec wrt Target, Y                     \n",
       "SPCTSOZ =   -44357550.47467447 / [km] Sun vec wrt Target, Z                     \n",
       "SPCTSOVX=    23.01240565680865 / [km/s] Sun vel vec wrt Target, X               \n",
       "SPCTSOVY=    17.96958773900277 / [km/s] Sun vel vec wrt Target, Y               \n",
       "SPCTSOVZ=    7.789831038970995 / [km/s] Sun vel vec wrt Target, Z               \n",
       "SPCTSORN=    147375019.3359546 / [km] Sun range to Target center                \n",
       "SPCTSEP2= '******Target:  Target->EarthObserver****************************'    \n",
       "SPCTEOX =                  0.0 / [km] Earth observer vec wrt Target, X, EMEJ2000\n",
       "SPCTEOY =                  0.0 / [km] Earth obs vec wrt Target, Y               \n",
       "SPCTEOZ =                  0.0 / [km] Earth obs vec wrt Target, Z               \n",
       "SPCTEOVX=                  0.0 / [km/s] Earth obs vel vec wrt Target, X         \n",
       "SPCTEOVY=                  0.0 / [km/s] Earth obs vel vec wrt Target, Y         \n",
       "SPCTEOVZ=                  0.0 / [km/s] Earth obs vel vec wrt Target, Z         \n",
       "SPCTEORN=                  0.0 / [km] Earth observer range to Target center     \n",
       "SPCTEOJD= 'JD 2454131.7055184' / [Julian d] Time at Earth observer              \n",
       "SPCTSEPB= '******Target:  Body-fixed info****************************'          \n",
       "SPCTSCLA=   -21.93888755977119 / [degrees] planetocentric Sub-S/C latitude      \n",
       "SPCTSCLO=    49.69766138388881 / [degrees] planetocentric Sub-S/C EAST longitude\n",
       "SPCTSOLA=   -17.48965728921794 / [degrees] planetocentric Sub-Solar latitude    \n",
       "SPCTSOLO=    109.4100423162674 / [degrees] planetocentric Sub-Solar EAST long.  \n",
       "SPCTNAZ =    289.1457562259169 / [degrees] Target North Azimuth, CW from UP     \n",
       "SPC1SEP0= '******CB1:  CB1->S/C****************************'                    \n",
       "SPC1CB  = 'JUPITER '           / [SPICE name] CB1 name                          \n",
       "SPC1SCX =    26068505.38108211 / [km] S/C vec wrt CB1, X, EMEJ2000              \n",
       "SPC1SCY =    34900363.88204587 / [km] S/C vec wrt CB1, Y                        \n",
       "SPC1SCZ =     13754908.2215555 / [km] S/C vec wrt CB1, Z                        \n",
       "SPC1SCVX=   -11.48599904632037 / [km/s] S/C vel vec wrt CB1, X                  \n",
       "SPC1SCVY=   -13.60564937243695 / [km/s] S/C vel vec wrt CB1, Y                  \n",
       "SPC1SCVZ=   -5.475454043520174 / [km/s] S/C vel vec wrt CB1, Z                  \n",
       "SPC1RANG=    45681504.70470662 / [km] S/C range to CB1 center                   \n",
       "SPC1TGJD= 'JD 2454131.7357532' / [Julian d] Time at CB1, UTC                    \n",
       "SPC1SEP1= '******CB1:  CB1->Sun****************************'                    \n",
       "SPC1SOX =    340033431.8300006 / [km] Sun vec wrt CB1, X, EMEJ2000              \n",
       "SPC1SOY =    670014243.5278945 / [km] Sun vec wrt CB1, Y                        \n",
       "SPC1SOZ =    278909904.9467361 / [km] Sun vec wrt CB1, Z                        \n",
       "SPC1SOVX=   -11.68143866041252 / [km/s] Sun vel vec wrt CB1, X                  \n",
       "SPC1SOVY=    4.430752702582324 / [km/s] Sun vel vec wrt CB1, Y                  \n",
       "SPC1SOVZ=     2.18352351751698 / [km/s] Sun vel vec wrt CB1, Z                  \n",
       "SPC1SORN=    801456521.8212038 / [km] Sun range to CB1 center                   \n",
       "SPC1SEP2= '******CB1:  CB1->EarthObserver****************************'          \n",
       "SPC1EOX =    243480620.8928861 / [km] Earth observer vec wrt CB1, X, EMEJ2000   \n",
       "SPC1EOY =    772244879.9480498 / [km] Earth obs vec wrt CB1, Y                  \n",
       "SPC1EOZ =    323231621.5743266 / [km] Earth obs vec wrt CB1, Z                  \n",
       "SPC1EOVX=    -34.6718273933129 / [km/s] Earth obs vel vec wrt CB1, X            \n",
       "SPC1EOVY=   -13.56208937236674 / [km/s] Earth obs vel vec wrt CB1, Y            \n",
       "SPC1EOVZ=   -5.616373687575992 / [km/s] Earth obs vel vec wrt CB1, Z            \n",
       "SPC1EORN=     871850703.126362 / [km] Earth observer range to CB1 center        \n",
       "SPC1EOJD= 'JD 2454131.7694127' / [Julian d] Time at Earth observer              \n",
       "SPC1SEPB= '******CB1:  Body-fixed info****************************'             \n",
       "SPC1SCLA=   -3.752675717236304 / [degrees] planetocentric Sub-S/C latitude      \n",
       "SPC1SCLO=    83.07865945751736 / [degrees] planetocentric Sub-S/C EAST longitude\n",
       "SPC1SOLA=   -2.978868839905485 / [degrees] planetocentric Sub-Solar latitude    \n",
       "SPC1SOLO=    92.80215425656682 / [degrees] planetocentric Sub-Solar EAST long.  \n",
       "SPC1NAZ =    274.1543294167755 / [degrees] CB1 North Azimuth, CW from UP        \n",
       "SPC2SEP0= '******CB2:  CB2->S/C****************************'                    \n",
       "SPC2CB  = 'JUPITER '           / [SPICE name] CB2 name                          \n",
       "SPC2SCX =    26068505.38108211 / [km] S/C vec wrt CB2, X, EMEJ2000              \n",
       "SPC2SCY =    34900363.88204587 / [km] S/C vec wrt CB2, Y                        \n",
       "SPC2SCZ =     13754908.2215555 / [km] S/C vec wrt CB2, Z                        \n",
       "SPC2SCVX=   -11.48599904632037 / [km/s] S/C vel vec wrt CB2, X                  \n",
       "SPC2SCVY=   -13.60564937243695 / [km/s] S/C vel vec wrt CB2, Y                  \n",
       "SPC2SCVZ=   -5.475454043520174 / [km/s] S/C vel vec wrt CB2, Z                  \n",
       "SPC2RANG=    45681504.70470662 / [km] S/C range to CB2 center                   \n",
       "SPC2TGJD= 'JD 2454131.7357532' / [Julian d] Time at CB2, UTC                    \n",
       "SPC2SEP1= '******CB2:  CB2->Sun****************************'                    \n",
       "SPC2SOX =    340033431.8300006 / [km] Sun vec wrt CB2, X, EMEJ2000              \n",
       "SPC2SOY =    670014243.5278945 / [km] Sun vec wrt CB2, Y                        \n",
       "SPC2SOZ =    278909904.9467361 / [km] Sun vec wrt CB2, Z                        \n",
       "SPC2SOVX=   -11.68143866041252 / [km/s] Sun vel vec wrt CB2, X                  \n",
       "SPC2SOVY=    4.430752702582324 / [km/s] Sun vel vec wrt CB2, Y                  \n",
       "SPC2SOVZ=     2.18352351751698 / [km/s] Sun vel vec wrt CB2, Z                  \n",
       "SPC2SORN=    801456521.8212038 / [km] Sun range to CB2 center                   \n",
       "SPC2SEP2= '******CB2:  CB2->EarthObserver****************************'          \n",
       "SPC2EOX =    243480620.8928861 / [km] Earth observer vec wrt CB2, X, EMEJ2000   \n",
       "SPC2EOY =    772244879.9480498 / [km] Earth obs vec wrt CB2, Y                  \n",
       "SPC2EOZ =    323231621.5743266 / [km] Earth obs vec wrt CB2, Z                  \n",
       "SPC2EOVX=    -34.6718273933129 / [km/s] Earth obs vel vec wrt CB2, X            \n",
       "SPC2EOVY=   -13.56208937236674 / [km/s] Earth obs vel vec wrt CB2, Y            \n",
       "SPC2EOVZ=   -5.616373687575992 / [km/s] Earth obs vel vec wrt CB2, Z            \n",
       "SPC2EORN=     871850703.126362 / [km] Earth observer range to CB2 center        \n",
       "SPC2EOJD= 'JD 2454131.7694127' / [Julian d] Time at Earth observer              \n",
       "SPC2SEPB= '******CB2:  Body-fixed info****************************'             \n",
       "SPC2SCLA=   -3.752675717236304 / [degrees] planetocentric Sub-S/C latitude      \n",
       "SPC2SCLO=    83.07865945751736 / [degrees] planetocentric Sub-S/C EAST longitude\n",
       "SPC2SOLA=   -2.978868839905485 / [degrees] planetocentric Sub-Solar latitude    \n",
       "SPC2SOLO=    92.80215425656682 / [degrees] planetocentric Sub-Solar EAST long.  \n",
       "SPC2NAZ =    274.1543294167755 / [degrees] CB2 North Azimuth, CW from UP        \n",
       "SPC3SEP0= '******CB3:  CB3->S/C****************************'                    \n",
       "SPC3CB  = 'JUPITER '           / [SPICE name] CB3 name                          \n",
       "SPC3SCX =    26068505.38108211 / [km] S/C vec wrt CB3, X, EMEJ2000              \n",
       "SPC3SCY =    34900363.88204587 / [km] S/C vec wrt CB3, Y                        \n",
       "SPC3SCZ =     13754908.2215555 / [km] S/C vec wrt CB3, Z                        \n",
       "SPC3SCVX=   -11.48599904632037 / [km/s] S/C vel vec wrt CB3, X                  \n",
       "SPC3SCVY=   -13.60564937243695 / [km/s] S/C vel vec wrt CB3, Y                  \n",
       "SPC3SCVZ=   -5.475454043520174 / [km/s] S/C vel vec wrt CB3, Z                  \n",
       "SPC3RANG=    45681504.70470662 / [km] S/C range to CB3 center                   \n",
       "SPC3TGJD= 'JD 2454131.7357532' / [Julian d] Time at CB3, UTC                    \n",
       "SPC3SEP1= '******CB3:  CB3->Sun****************************'                    \n",
       "SPC3SOX =    340033431.8300006 / [km] Sun vec wrt CB3, X, EMEJ2000              \n",
       "SPC3SOY =    670014243.5278945 / [km] Sun vec wrt CB3, Y                        \n",
       "SPC3SOZ =    278909904.9467361 / [km] Sun vec wrt CB3, Z                        \n",
       "SPC3SOVX=   -11.68143866041252 / [km/s] Sun vel vec wrt CB3, X                  \n",
       "SPC3SOVY=    4.430752702582324 / [km/s] Sun vel vec wrt CB3, Y                  \n",
       "SPC3SOVZ=     2.18352351751698 / [km/s] Sun vel vec wrt CB3, Z                  \n",
       "SPC3SORN=    801456521.8212038 / [km] Sun range to CB3 center                   \n",
       "SPC3SEP2= '******CB3:  CB3->EarthObserver****************************'          \n",
       "SPC3EOX =    243480620.8928861 / [km] Earth observer vec wrt CB3, X, EMEJ2000   \n",
       "SPC3EOY =    772244879.9480498 / [km] Earth obs vec wrt CB3, Y                  \n",
       "SPC3EOZ =    323231621.5743266 / [km] Earth obs vec wrt CB3, Z                  \n",
       "SPC3EOVX=    -34.6718273933129 / [km/s] Earth obs vel vec wrt CB3, X            \n",
       "SPC3EOVY=   -13.56208937236674 / [km/s] Earth obs vel vec wrt CB3, Y            \n",
       "SPC3EOVZ=   -5.616373687575992 / [km/s] Earth obs vel vec wrt CB3, Z            \n",
       "SPC3EORN=     871850703.126362 / [km] Earth observer range to CB3 center        \n",
       "SPC3EOJD= 'JD 2454131.7694127' / [Julian d] Time at Earth observer              \n",
       "SPC3SEPB= '******CB3:  Body-fixed info****************************'             \n",
       "SPC3SCLA=   -3.752675717236304 / [degrees] planetocentric Sub-S/C latitude      \n",
       "SPC3SCLO=    83.07865945751736 / [degrees] planetocentric Sub-S/C EAST longitude\n",
       "SPC3SOLA=   -2.978868839905485 / [degrees] planetocentric Sub-Solar latitude    \n",
       "SPC3SOLO=    92.80215425656682 / [degrees] planetocentric Sub-Solar EAST long.  \n",
       "SPC3NAZ =    274.1543294167755 / [degrees] CB3 North Azimuth, CW from UP        \n",
       "SPCSEPS = '******S/C->SUN****************************************'              \n",
       "SPCSSCX =      313932862.32259 / [km] Sun vec wrt S/C observer, X, EMEJ2000     \n",
       "SPCSSCY =    635127702.0038093 / [km] Sun vec wrt S/C obs, Y                    \n",
       "SPCSSCZ =    265161720.8043077 / [km] Sun vec wrt S/C obs, Z                    \n",
       "SPCSSCVX=  -0.1954396369588761 / [km/s] Sun obs vel vec wrt S/C obs, X          \n",
       "SPCSSCVY=    18.03640203368642 / [km/s] Sun vel vec wrt S/C obs, Y              \n",
       "SPCSSCVZ=    7.658977543426568 / [km/s] Sun vel vec wrt S/C obs, Z              \n",
       "SPCSSCRN=    756473250.0747106 / [km] S/C observer range to sun center          \n",
       "SPCSSCJD= 'JD 2454131.7083117' / [Julian d] Time at Sun                         \n",
       "SPCSEPE = '******EARTH->S/C****************************************'            \n",
       "SPCESCX =   -217572865.6626725 / [km] S/C observer vec wrt earth, X, EMEJ2000   \n",
       "SPCESCY =   -737435550.0238118 / [km] S/C obs vec wrt earth, Y                  \n",
       "SPCESCZ =    -309515404.381581 / [km] S/C obs vec wrt earth, Z                  \n",
       "SPCESCVX=    23.20784432214216 / [km/s] S/C obs vel vec wrt earth, X            \n",
       "SPCESCVY= -0.06681342505378041 / [km/s] S/C obs vel vec wrt earth, Y            \n",
       "SPCESCVZ=    0.130853872659074 / [km/s] S/C obs vel vec wrt earth, Z            \n",
       "SPCESCRN=    828823821.9676621 / [km] S/C observer range to earth center        \n",
       "SPCESCJD= 'JD 2454131.7055184' / [Julian d] Time at Earth                       \n",
       "SPCKSEP = '******SPICE KERNELS*************************************'            \n",
       "SPCKNUM =                   26 / COUNT OF LOADED SPICE KERNELS:                 \n",
       "SPCK0001= 'naif0008.tls'       / SPICE kernel 0001                              \n",
       "SPCK0002= 'new-horizons_371.tsc' / SPICE kernel 0002                            \n",
       "SPCK0003= 'pck00008.tpc'       / SPICE kernel 0003                              \n",
       "SPCK0004= 'nh_v200.tf'         / SPICE kernel 0004                              \n",
       "SPCK0005= 'nh_allinstruments_v001.ti' / SPICE kernel 0005                       \n",
       "SPCK0006= 'nh_alice_v110.ti'   / SPICE kernel 0006                              \n",
       "SPCK0007= 'nh_lorri_v100.ti'   / SPICE kernel 0007                              \n",
       "SPCK0008= 'nh_pepssi_v110.ti'  / SPICE kernel 0008                              \n",
       "SPCK0009= 'nh_ralph_v100.ti'   / SPICE kernel 0009                              \n",
       "SPCK0010= 'nh_rex_v100.ti'     / SPICE kernel 0010                              \n",
       "SPCK0011= 'nh_sdc_v101.ti'     / SPICE kernel 0011                              \n",
       "SPCK0012= 'nh_swap_v100.ti'    / SPICE kernel 0012                              \n",
       "SPCK0013= 'nh_soc_misc_v001.tf' / SPICE kernel 0013                             \n",
       "SPCK0014= 'sb-2002jf56-2.bsp'  / SPICE kernel 0014                              \n",
       "SPCK0015= 'jup260.bsp'         / SPICE kernel 0015                              \n",
       "SPCK0016= 'plu013.bsp'         / SPICE kernel 0016                              \n",
       "SPCK0017= 'nh_nep_ura_000.bsp' / SPICE kernel 0017                              \n",
       "SPCK0018= 'de413.bsp'          / SPICE kernel 0018                              \n",
       "SPCK0019= 'nh_recon_e2j_v1.bsp' / SPICE kernel 0019                             \n",
       "SPCK0020= 'nh_recon_j2sep07_prelimv1.bsp' / SPICE kernel 0020                   \n",
       "SPCK0021= 'merged_nhpc_2006_v011.bc' / SPICE kernel 0021                        \n",
       "SPCK0022= 'merged_nhpc_2007_v006.bc' / SPICE kernel 0022                        \n",
       "SPCK0023= 'merged_nhpc_2008_01_v007.bc' / SPICE kernel 0023                     \n",
       "SPCK0024= 'merged_nhpc_2008_02_v003.bc' / SPICE kernel 0024                     \n",
       "SPCK0025= 'merged_nhpc_2008_05_v007.bc' / SPICE kernel 0025                     \n",
       "SPCK0026= 'merged_nhpc_2008_06_v001.bc' / SPICE kernel 0026                     \n",
       "PACMMNT0= '*** Position angles (PAs):  XYZ axes, degrees east of EMEJ2k North'  \n",
       "PACMMNT1= '***   on plane perpendicular to boresight; -999 => Boresight'        \n",
       "PA_XINST=               -999.0 / [degrees] PA +X, East of EMEJ2k North          \n",
       "PA_YINST=    289.1791277248273 / [degrees] PA +Y, East of EMEJ2k North          \n",
       "PA_ZINST=     19.1791277248273 / [degrees] PA +Z, East of EMEJ2k North          \n",
       "HIGHSSEP= '********************************************************'            \n",
       "WINDOWX =                    0 / X origin of window                             \n",
       "WINDOWY =                    0 / Y origin of window                             \n",
       "WINDOWW =                 5024 / Window width                                   \n",
       "WINDOWH =                   57 / Window height                                  \n",
       "CPLANE  =                    0 / Color/plane number                             \n",
       "RALPHSEP= '********************************************************'            \n",
       "MET510  =             32528022 / MET of 0x510 packet marking acq start          \n",
       "TRUE510 = 'YES     '           / Is the 0x510 real or assumed from a gap?       \n",
       "RALPHEXP=                  8.0 / RALPH exposure time (s)                        \n",
       "INSTSSEP= '********************************************************'            \n",
       "MODE    =                    2 / Instrument mode                                \n",
       "SIDE    =                    1 / Instrument HW side                             \n",
       "DETECTOR= 'RED     '           / CCD detector used                              \n",
       "FILTER  = 'RED     '           / CCD filter color                               \n",
       "SCANTYPE= 'TDI     '           / Type of scan done                              \n",
       "SOCL2VER= '1.0     '           /Version of Level 2 software                     \n",
       "PIXSIZE =              13.0000 /Pixel size in microns                           \n",
       "READNOI =              30.0000 /Readnoise in Electrons                          \n",
       "GAIN    =              58.6000 /Gain in Electrons/DN                            \n",
       "PIXFOV  =              19.8065 /Plate scale in microrad/pix                     \n",
       "CALDIR  = 'cal/    '           /Directory for calibration files                 \n",
       "PSOLAR  = '2.17E-11'           /(erg/cm^2/s)/(DN/s), Solar spectrum             \n",
       "PJUPITER= '2.13E-11'           /(erg/cm^2/s)/(DN/s), Jupiter spectrum           \n",
       "PPHOLUS = '2.21E-11'           /(erg/cm^2/s)/(DN/s), Pholus spectrum            \n",
       "PPLUTO  = '2.17E-11'           /(erg/cm^2/s)/(DN/s), Pluto spectrum             \n",
       "PCHARON = '2.17E-11'           /(erg/cm^2/s)/(DN/s), Charon spectrum            \n",
       "RSOLAR  = '0.0555  '           /(erg/cm^2/s/sr)/(DN/s/pix), Solar spectrum      \n",
       "RJUPITER= '0.0544  '           /(erg/cm^2/s/sr)/(DN/s/pix), Jupiter spectrum    \n",
       "RPHOLUS = '0.0562  '           /(erg/cm^2/s/sr)/(DN/s/pix), Pholus spectrum     \n",
       "RPLUTO  = '0.0553  '           /(erg/cm^2/s/sr)/(DN/s/pix), Pluto spectrum      \n",
       "RCHARON = '0.0554  '           /(erg/cm^2/s/sr)/(DN/s/pix), Charon spectrum     \n",
       "WSOLAR  = '6.12E-5 '           /Pivot Wavelength (cm), Solar spectrum           \n",
       "WJUPITER= '6.12E-5 '           /Pivot Wavelength (cm), Jupiter spectrum         \n",
       "WPHOLUS = '6.20E-5 '           /Pivot Wavelength (cm), Pholus spectrum          \n",
       "WPLUTO  = '6.14E-5 '           /Pivot Wavelength (cm), Pluto spectrum           \n",
       "WCHARON = '6.12E-5 '           /Pivot Wavelength (cm), Charon spectrum          \n",
       "TDIRATE =              4.00000 /TDI RATE (Hz)                                   "
      ]
     },
     "execution_count": 10,
     "metadata": {},
     "output_type": "execute_result"
    }
   ],
   "source": [
    "hdr = pyfits.getheader(fits_file)\n",
    "hdr"
   ]
  },
  {
   "cell_type": "code",
   "execution_count": 25,
   "metadata": {
    "collapsed": false
   },
   "outputs": [
    {
     "data": {
      "text/plain": [
       "(57, 5024)"
      ]
     },
     "execution_count": 25,
     "metadata": {},
     "output_type": "execute_result"
    }
   ],
   "source": [
    "data = pyfits.getdata(fits_file, 0)\n",
    "np.shape(data)"
   ]
  },
  {
   "cell_type": "code",
   "execution_count": 29,
   "metadata": {
    "collapsed": false
   },
   "outputs": [
    {
     "data": {
      "image/png": "[encoded data removed]",
      "text/plain": [
       "<matplotlib.figure.Figure at 0x102643450>"
      ]
     },
     "metadata": {},
     "output_type": "display_data"
    }
   ],
   "source": [
    "%matplotlib inline\n",
    "plt.figure(figsize=(9,9))\n",
    "plt.hist(np.ravel(data))\n",
    "plt.show()"
   ]
  },
  {
   "cell_type": "code",
   "execution_count": 26,
   "metadata": {
    "collapsed": false
   },
   "outputs": [
    {
     "data": {
      "image/png": "[encoded data removed]",
      "text/plain": [
       "<matplotlib.figure.Figure at 0x1090bda90>"
      ]
     },
     "metadata": {},
     "output_type": "display_data"
    }
   ],
   "source": [
    "plt.figure(figsize=(9,9))\n",
    "plt.imshow(data[20:,:200], cmap='bone', clim=(0,160))\n",
    "plt.show()"
   ]
  },
  {
   "cell_type": "code",
   "execution_count": 27,
   "metadata": {
    "collapsed": false
   },
   "outputs": [
    {
     "data": {
      "text/plain": [
       "(57, 5024)"
      ]
     },
     "execution_count": 27,
     "metadata": {},
     "output_type": "execute_result"
    }
   ],
   "source": [
    "test = pyfits.getdata(fits_file, 1)\n",
    "np.shape(test)"
   ]
  },
  {
   "cell_type": "code",
   "execution_count": 35,
   "metadata": {
    "collapsed": false
   },
   "outputs": [
    {
     "data": {
      "image/png": "[encoded data removed]",
      "text/plain": [
       "<matplotlib.figure.Figure at 0x1068aecd0>"
      ]
     },
     "metadata": {},
     "output_type": "display_data"
    },
    {
     "data": {
      "text/plain": [
       "1"
      ]
     },
     "execution_count": 35,
     "metadata": {},
     "output_type": "execute_result"
    }
   ],
   "source": [
    "plt.hist(np.ravel(test), bins=np.arange(0.0, 0.001, 0.0001))\n",
    "plt.show()\n",
    "x = np.unique(np.ravel(test))\n",
    "len(x)"
   ]
  },
  {
   "cell_type": "code",
   "execution_count": 38,
   "metadata": {
    "collapsed": false
   },
   "outputs": [
    {
     "data": {
      "text/plain": [
       "array([ 0.])"
      ]
     },
     "execution_count": 38,
     "metadata": {},
     "output_type": "execute_result"
    }
   ],
   "source": [
    "x # ok, theis img is"
   ]
  },
  {
   "cell_type": "code",
   "execution_count": 58,
   "metadata": {
    "collapsed": false
   },
   "outputs": [
    {
     "data": {
      "text/plain": [
       "XTENSION= 'IMAGE   '           / IMAGE extension                                \n",
       "BITPIX  =                  -32 / Number of bits per data pixel                  \n",
       "NAXIS   =                    2 / Number of data axes                            \n",
       "NAXIS1  =                 5024 /                                                \n",
       "NAXIS2  =                   57 /                                                \n",
       "COMMENT  1-sigma error per pixel for the image in extension 1.                  \n",
       "COMMENT  Units are in DN.                                                       \n",
       "COMMENT  See the SOC Instrument ICD for more details.                           "
      ]
     },
     "execution_count": 58,
     "metadata": {},
     "output_type": "execute_result"
    }
   ],
   "source": [
    "data2, hdr2 = pyfits.getdata(fits_file, 2, header=True)\n",
    "hdr2"
   ]
  },
  {
   "cell_type": "code",
   "execution_count": 40,
   "metadata": {
    "collapsed": false
   },
   "outputs": [
    {
     "data": {
      "text/plain": [
       "(57, 5024)"
      ]
     },
     "execution_count": 40,
     "metadata": {},
     "output_type": "execute_result"
    }
   ],
   "source": [
    "np.shape(data2)"
   ]
  },
  {
   "cell_type": "code",
   "execution_count": 46,
   "metadata": {
    "collapsed": false
   },
   "outputs": [
    {
     "data": {
      "image/png": "[encoded data removed]",
      "text/plain": [
       "<matplotlib.figure.Figure at 0x10ce5ad10>"
      ]
     },
     "metadata": {},
     "output_type": "display_data"
    }
   ],
   "source": [
    "plt.figure(figsize=(9,9))\n",
    "plt.imshow(data2[:,:100], cmap='bone')\n",
    "plt.show()"
   ]
  },
  {
   "cell_type": "code",
   "execution_count": 49,
   "metadata": {
    "collapsed": false
   },
   "outputs": [
    {
     "data": {
      "image/png": "[encoded data removed]",
      "text/plain": [
       "<matplotlib.figure.Figure at 0x10a811110>"
      ]
     },
     "metadata": {},
     "output_type": "display_data"
    }
   ],
   "source": [
    "plt.hist(np.ravel(data2), bins=np.arange(0.0, 1.0, 0.001))\n",
    "plt.show()"
   ]
  },
  {
   "cell_type": "code",
   "execution_count": 51,
   "metadata": {
    "collapsed": false
   },
   "outputs": [
    {
     "data": {
      "image/png": "[encoded data removed]",
      "text/plain": [
       "<matplotlib.figure.Figure at 0x1046ae290>"
      ]
     },
     "metadata": {},
     "output_type": "display_data"
    }
   ],
   "source": [
    "plt.hist(np.ravel(data2), bins=np.arange(0.9, 1.0, 0.005))\n",
    "plt.show()"
   ]
  },
  {
   "cell_type": "code",
   "execution_count": 53,
   "metadata": {
    "collapsed": false
   },
   "outputs": [
    {
     "data": {
      "text/plain": [
       "<matplotlib.image.AxesImage at 0x10d72ff90>"
      ]
     },
     "execution_count": 53,
     "metadata": {},
     "output_type": "execute_result"
    },
    {
     "data": {
      "image/png": "[encoded data removed]",
      "text/plain": [
       "<matplotlib.figure.Figure at 0x108b2f990>"
      ]
     },
     "metadata": {},
     "output_type": "display_data"
    }
   ],
   "source": [
    "plt.imshow(data2[:,:100], cmap='bone', clim=(0.93, 0.96))"
   ]
  },
  {
   "cell_type": "code",
   "execution_count": 56,
   "metadata": {
    "collapsed": false
   },
   "outputs": [],
   "source": [
    "img, hdr = pyfits.getdata(fits_file, 2, header=True)"
   ]
  },
  {
   "cell_type": "code",
   "execution_count": 57,
   "metadata": {
    "collapsed": false
   },
   "outputs": [
    {
     "data": {
      "text/plain": [
       "XTENSION= 'IMAGE   '           / IMAGE extension                                \n",
       "BITPIX  =                  -32 / Number of bits per data pixel                  \n",
       "NAXIS   =                    2 / Number of data axes                            \n",
       "NAXIS1  =                 5024 /                                                \n",
       "NAXIS2  =                   57 /                                                \n",
       "COMMENT  1-sigma error per pixel for the image in extension 1.                  \n",
       "COMMENT  Units are in DN.                                                       \n",
       "COMMENT  See the SOC Instrument ICD for more details.                           "
      ]
     },
     "execution_count": 57,
     "metadata": {},
     "output_type": "execute_result"
    }
   ],
   "source": [
    "hdr"
   ]
  }
 ],
 "metadata": {
  "kernelspec": {
   "display_name": "Python 2",
   "language": "python",
   "name": "python2"
  },
  "language_info": {
   "codemirror_mode": {
    "name": "ipython",
    "version": 2
   },
   "file_extension": ".py",
   "mimetype": "text/x-python",
   "name": "python",
   "nbconvert_exporter": "python",
   "pygments_lexer": "ipython2",
   "version": "2.7.10"
  }
 },
 "nbformat": 4,
 "nbformat_minor": 0
}
