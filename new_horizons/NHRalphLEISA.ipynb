{
 "cells": [
  {
   "cell_type": "markdown",
   "metadata": {},
   "source": [
    "# Wrapping My Head Around LEISA data\n",
    "_Ben Kamphaus, PhD_\n",
    "\n",
    "FITS data can be a pain to work with, especially when it's data outside of your particular specialty (my background is remote sensing for sensors pointed at earth, not other planets), so this notebook shows some of the head-to-desk, brute force data wrangling involved in figuring out what's going on."
   ]
  },
  {
   "cell_type": "code",
   "execution_count": 1,
   "metadata": {
    "collapsed": true
   },
   "outputs": [],
   "source": [
    "# our routine imports\n",
    "import pyfits\n",
    "import numpy as np\n",
    "from matplotlib import pyplot as plt"
   ]
  },
  {
   "cell_type": "code",
   "execution_count": 2,
   "metadata": {
    "collapsed": false
   },
   "outputs": [
    {
     "name": "stdout",
     "output_type": "stream",
     "text": [
      "lsb_0035209319_0x53c_sci_1.fit\tlsb_0035209319_0x53c_sci_1.lbl\r\n"
     ]
    }
   ],
   "source": [
    "!ls data/20070303_003520/"
   ]
  },
  {
   "cell_type": "code",
   "execution_count": 7,
   "metadata": {
    "collapsed": false
   },
   "outputs": [
    {
     "name": "stdout",
     "output_type": "stream",
     "text": [
      "Filename: data/20070303_003520/lsb_0035209319_0x53c_sci_1.fit\n",
      "No.    Name         Type      Cards   Dimensions   Format\n",
      "0    PRIMARY     PrimaryHDU     285   (256, 256, 792)   float32   \n",
      "1    WAVELENGTHS  ImageHDU         9   (256, 256, 2)   float32   \n",
      "2    ANGLES      ImageHDU         9   (256, 256, 3)   float32   \n",
      "3    FLATFIELD   ImageHDU         8   (256, 256)   float32   \n",
      "4    CALIBRATION  ImageHDU         9   (256, 256, 2)   float32   \n",
      "5    ERRORMAP    ImageHDU         8   (256, 256)   float32   \n",
      "6    QUALITY     ImageHDU         8   (256, 256)   int16   \n",
      "7    QUATERNIONS  ImageHDU        10   (5, 792)     float32   \n",
      "8    HOUSEKEEPING  BinTableHDU    183   595R x 75C   [J, B, B, B, B, B, B, I, I, I, I, I, I, I, B, B, B, B, B, B, B, B, B, B, B, B, B, B, B, B, B, B, B, B, B, B, B, B, I, I, I, B, B, B, B, B, B, B, B, B, B, B, B, I, I, I, I, I, I, I, I, I, J, J, B, I, I, I, I, I, I, I, I, I, J]   \n"
     ]
    }
   ],
   "source": [
    "fits_file = 'data/20070303_003520/lsb_0035209319_0x53c_sci_1.fit'\n",
    "pyfits.info(fits_file)"
   ]
  },
  {
   "cell_type": "markdown",
   "metadata": {},
   "source": [
    "Ok, this time we've got an image cube.\n"
   ]
  },
  {
   "cell_type": "code",
   "execution_count": 10,
   "metadata": {
    "collapsed": false
   },
   "outputs": [
    {
     "data": {
      "text/plain": [
       "SIMPLE  =                    T / file does conform to FITS standard             \n",
       "BITPIX  =                  -32 / number of bits per data pixel                  \n",
       "NAXIS   =                    3 / number of data axes                            \n",
       "NAXIS1  =                  256 / length of data axis 1                          \n",
       "NAXIS2  =                  256 / length of data axis 2                          \n",
       "NAXIS3  =                  792 / length of data axis 3                          \n",
       "EXTEND  =                    T                                                  \n",
       "COMMENT   FITS (Flexible Image Transport System) format is defined in 'Astronomy\n",
       "COMMENT   and Astrophysics', volume 376, page 359; bibcode: 2001A&A...376..359H \n",
       "BZERO   =                    0 / no offset                                      \n",
       "BSCALE  =                    1 / default scaling factor                         \n",
       "MISSION = 'New Horizons'       / Mission name                                   \n",
       "HOSTNAME= 'NEW HORIZONS'       / Host name (PDS terminology)                    \n",
       "HOSTID  = 'NH      '           / Host ID (PDS terminology)                      \n",
       "INSTRU  = 'lei     '           / Instrument                                     \n",
       "APID    = '0x53c   '           / Application ID of science data                 \n",
       "MET     =             35209319 / First packet MET (from instrument or HS bus)   \n",
       "METEND  =             35209909 / Last packet MET (from instrument or HS bus)    \n",
       "MET_HK  = 'N/A     '           / MET from housekeeping used in header           \n",
       "HSCOMPR = 'LOSSLESS'           / High-speed compression mode                    \n",
       "OBSCOMPL= 'COMPLETE'           / Observation completion status                  \n",
       "MISSPACK=                    0 / Missing CCSDS packets (-1 = N/A)               \n",
       "STARTMET=           35209319.0 / Actual start time (in MET seconds)             \n",
       "STOPMET =           35209909.0 / Actual stop time (in MET seconds)              \n",
       "DURMET  =                590.0 / Observation duration (in MET seconds)          \n",
       "METSRC  = 'CCSDS_Header'       / Source of above three times                    \n",
       "EXPTIME =                0.746 / Exposure time                                  \n",
       "ARCHDATE= '2007/135'           / Date of MOC archive file                       \n",
       "GRT     =     18031.9748208354 / Ground receipt time from STP                   \n",
       "DATE    = '2008-08-22T23:18:14' / Time file was created by SOC                  \n",
       "SOCVER  =                  1.0 / SOC pipeline software version                  \n",
       "SOCLOC  = 'TSOC    '           / SOC location where processed (TSOC or CSOC)    \n",
       "REQID   = 'JELE_JAURORA03'     / Request ID                                     \n",
       "TARGET  = 'JUPITER '           / Target object                                  \n",
       "TARGTYPE= 'Not defined'        / Target object type                             \n",
       "CB1LOAD = 'JUPITER '           / Central Body 1 loaded                          \n",
       "CB2LOAD = 'IO      '           / Central Body 2 loaded                          \n",
       "CB3LOAD = 'EUROPA  '           / Central Body 3 loaded                          \n",
       "REQDESC = 'Lyman alpha/H3+ airglow map' / Sequence description / notes          \n",
       "REQCOMM = 'LEISA N/S scan; ALICE TTAG' / Sequence Comments                      \n",
       "SPCSEP  = '***GEOMETRY SECTION*************************************'            \n",
       "SPCQUAL = 'RECONSTRUCTED'      / QUALITY:  PREDICT (poor); RECONSTRUCTED        \n",
       "SPCSTAT = 'OK      '           / SPICE status [OK or INCOMPLETE ...]            \n",
       "SPCINST0= 'NH_RALPH_LEISA'     / Starting SPICE Instrument or FRAME             \n",
       "SPCINSTR= 'NH_RALPH_LEISA'     / Final SPICE Instrument or FRAME                \n",
       "SPCMET0 =           35209319.0 / RAW MET timestamp                              \n",
       "SPCMETDL=                295.0 / [s] delta, (Mid-obs time) - (RAW MET)          \n",
       "SPCCBTNM= 'JUPITER '           / [text] Target input name                       \n",
       "SPCCB1NM= 'JUPITER '           / [text] CB1 input name                          \n",
       "SPCCB2NM= 'IO      '           / [text] CB2 input name                          \n",
       "SPCCB3NM= 'EUROPA  '           / [text] CB3 input name                          \n",
       "SPCCBTID=                  599 / [SPICE ID] Target                              \n",
       "SPCCB1ID=                  599 / [SPICE ID] CB1                                 \n",
       "SPCCB2ID=                  501 / [SPICE ID] CB2                                 \n",
       "SPCCB3ID=                  502 / [SPICE ID] CB3                                 \n",
       "SPCSCLK0= '1/0035209319:00000' / Spacecraft CLocK timestamp                     \n",
       "SPCINSID=               -98201 / [SPICE ID] Instrument                          \n",
       "SPCSCID =                  -98 / [SPICE ID] Spacecraft                          \n",
       "SPCSCNAM= 'NH_SPACECRAFT'      / [SPICE Name] Spacecraft                        \n",
       "SPCSCET =    226175761.5745186 / [s past J2000] Spacecraft mid-obs time, TDB    \n",
       "SPCSCLK = '1/0035209614:00000' / Mid-obs Spacecraft CLocK                       \n",
       "SPCSCDP =      1760480700000.0 / [SCLK milli-ticks] Spacecraft mid-obs time     \n",
       "SPCUTCID= '2007-062T06:34:56.389' / [ISO DOY] Spacecraft mid-obs time, UTC      \n",
       "SPCUTCAL= '2007-03-03T06:34:56.389' / [Cal d] Spacecraft mid-obs time, UTC      \n",
       "SPCUTCJD= 'JD 2454162.7742638' / [Julian d] Spacecraft mid-obs time, UTC        \n",
       "SPCPSEP = '******INSTRUMENT POINTING*******************************'            \n",
       "SPCBRRA =    38.32743277750437 / [degrees] Boresight RA, EME J2000              \n",
       "SPCBRDEC=    15.93090165677164 / [degrees] Boresight DEC, EME J2000             \n",
       "SPCEMEN =     71.6334584106649 / [degrees] EME J2k North Clk Angle, CW from UP  \n",
       "SPCPAXIN=               -999.0 / [degrees] Instr +X Pos ang, E from EMEJ2k N    \n",
       "SPCPAYIN=     71.6334584106649 / [degrees] Instr +Y Pos ang, E from EMEJ2k N    \n",
       "SPCPAZIN=    161.6334584106649 / [degrees] Instr +Z Pos ang, E from EMEJ2k N    \n",
       "SPCQA   =  0.07733508435305957 / cos(theta/2)     - Quaternion to transform     \n",
       "SPCQX   =  -0.3418246738097653 / sin(theta/2) * X -   instrument vectors        \n",
       "SPCQY   =    0.916220988428968 / sin(theta/2) * Y -   to EME J2000 vectors      \n",
       "SPCQZ   =   0.1942016412525842 / sin(theta/2) * Z -   ***N.B. SPICE FORMAT      \n",
       "SPCTSEP0= '******Target:  Target->S/C****************************'              \n",
       "SPCTCB  = 'JUPITER '           / [SPICE name] Target name                       \n",
       "SPCTSCX =   -4260028.575086413 / [km] S/C vec wrt Target, X, EMEJ2000           \n",
       "SPCTSCY =   -3378694.737267694 / [km] S/C vec wrt Target, Y                     \n",
       "SPCTSCZ =   -1478824.842555082 / [km] S/C vec wrt Target, Z                     \n",
       "SPCTSCVX=   -7.672086207210675 / [km/s] S/C vel vec wrt Target, X               \n",
       "SPCTSCVY=   -16.95176037789133 / [km/s] S/C vel vec wrt Target, Y               \n",
       "SPCTSCVZ=   -6.256937840848359 / [km/s] S/C vel vec wrt Target, Z               \n",
       "SPCTRANG=    5634744.404420776 / [km] S/C range to Target center                \n",
       "SPCTTGJD= 'JD 2454162.7740462' / [Julian d] Time at Target, UTC                 \n",
       "SPCTSEP1= '******Target:  Target->Sun****************************'              \n",
       "SPCTSOX =     308406733.075757 / [km] Sun vec wrt Target, X, EMEJ2000           \n",
       "SPCTSOY =    681268249.7704819 / [km] Sun vec wrt Target, Y                     \n",
       "SPCTSOZ =     284503680.841184 / [km] Sun vec wrt Target, Z                     \n",
       "SPCTSOVX=   -11.90346801410529 / [km/s] Sun vel vec wrt Target, X               \n",
       "SPCTSOVY=    3.960535796515569 / [km/s] Sun vel vec wrt Target, Y               \n",
       "SPCTSOVZ=     1.98741656625856 / [km/s] Sun vel vec wrt Target, Z               \n",
       "SPCTSORN=    800114670.2591944 / [km] Sun range to Target center                \n",
       "SPCTSEP2= '******Target:  Target->EarthObserver****************************'    \n",
       "SPCTEOX =    167129756.8493578 / [km] Earth observer vec wrt Target, X, EMEJ2000\n",
       "SPCTEOY =    722800632.1470044 / [km] Earth obs vec wrt Target, Y               \n",
       "SPCTEOZ =    302510968.6394773 / [km] Earth obs vec wrt Target, Z               \n",
       "SPCTEOVX=   -21.47287574753828 / [km/s] Earth obs vel vec wrt Target, X         \n",
       "SPCTEOVY=   -22.15995929109344 / [km/s] Earth obs vel vec wrt Target, Y         \n",
       "SPCTEOVZ=   -9.335527771223759 / [km/s] Earth obs vel vec wrt Target, Z         \n",
       "SPCTEORN=    801177880.1263983 / [km] Earth observer range to Target center     \n",
       "SPCTEOJD= 'JD 2454162.8049773' / [Julian d] Time at Earth observer              \n",
       "SPCTSEPB= '******Target:  Body-fixed info****************************'          \n",
       "SPCTSCLA=    1.851310528951506 / [degrees] planetocentric Sub-S/C latitude      \n",
       "SPCTSCLO=    228.8105729487132 / [degrees] planetocentric Sub-S/C EAST longitude\n",
       "SPCTSOLA=   -2.935956801244215 / [degrees] planetocentric Sub-Solar latitude    \n",
       "SPCTSOLO=     75.2668866775045 / [degrees] planetocentric Sub-Solar EAST long.  \n",
       "SPCTNAZ =    90.81892530657854 / [degrees] Target North Azimuth, CW from UP     \n",
       "SPC1SEP0= '******CB1:  CB1->S/C****************************'                    \n",
       "SPC1CB  = 'JUPITER '           / [SPICE name] CB1 name                          \n",
       "SPC1SCX =   -4260028.575086413 / [km] S/C vec wrt CB1, X, EMEJ2000              \n",
       "SPC1SCY =   -3378694.737267694 / [km] S/C vec wrt CB1, Y                        \n",
       "SPC1SCZ =   -1478824.842555082 / [km] S/C vec wrt CB1, Z                        \n",
       "SPC1SCVX=   -7.672086207210675 / [km/s] S/C vel vec wrt CB1, X                  \n",
       "SPC1SCVY=   -16.95176037789133 / [km/s] S/C vel vec wrt CB1, Y                  \n",
       "SPC1SCVZ=   -6.256937840848359 / [km/s] S/C vel vec wrt CB1, Z                  \n",
       "SPC1RANG=    5634744.404420776 / [km] S/C range to CB1 center                   \n",
       "SPC1TGJD= 'JD 2454162.7740462' / [Julian d] Time at CB1, UTC                    \n",
       "SPC1SEP1= '******CB1:  CB1->Sun****************************'                    \n",
       "SPC1SOX =     308406733.075757 / [km] Sun vec wrt CB1, X, EMEJ2000              \n",
       "SPC1SOY =    681268249.7704819 / [km] Sun vec wrt CB1, Y                        \n",
       "SPC1SOZ =     284503680.841184 / [km] Sun vec wrt CB1, Z                        \n",
       "SPC1SOVX=   -11.90346801410529 / [km/s] Sun vel vec wrt CB1, X                  \n",
       "SPC1SOVY=    3.960535796515569 / [km/s] Sun vel vec wrt CB1, Y                  \n",
       "SPC1SOVZ=     1.98741656625856 / [km/s] Sun vel vec wrt CB1, Z                  \n",
       "SPC1SORN=    800114670.2591944 / [km] Sun range to CB1 center                   \n",
       "SPC1SEP2= '******CB1:  CB1->EarthObserver****************************'          \n",
       "SPC1EOX =    167129756.8493578 / [km] Earth observer vec wrt CB1, X, EMEJ2000   \n",
       "SPC1EOY =    722800632.1470044 / [km] Earth obs vec wrt CB1, Y                  \n",
       "SPC1EOZ =    302510968.6394773 / [km] Earth obs vec wrt CB1, Z                  \n",
       "SPC1EOVX=   -21.47287574753828 / [km/s] Earth obs vel vec wrt CB1, X            \n",
       "SPC1EOVY=   -22.15995929109344 / [km/s] Earth obs vel vec wrt CB1, Y            \n",
       "SPC1EOVZ=   -9.335527771223759 / [km/s] Earth obs vel vec wrt CB1, Z            \n",
       "SPC1EORN=    801177880.1263983 / [km] Earth observer range to CB1 center        \n",
       "SPC1EOJD= 'JD 2454162.8049773' / [Julian d] Time at Earth observer              \n",
       "SPC1SEPB= '******CB1:  Body-fixed info****************************'             \n",
       "SPC1SCLA=    1.851310528951506 / [degrees] planetocentric Sub-S/C latitude      \n",
       "SPC1SCLO=    228.8105729487132 / [degrees] planetocentric Sub-S/C EAST longitude\n",
       "SPC1SOLA=   -2.935956801244215 / [degrees] planetocentric Sub-Solar latitude    \n",
       "SPC1SOLO=     75.2668866775045 / [degrees] planetocentric Sub-Solar EAST long.  \n",
       "SPC1NAZ =    90.81892530657854 / [degrees] CB1 North Azimuth, CW from UP        \n",
       "SPC2SEP0= '******CB2:  CB2->S/C****************************'                    \n",
       "SPC2CB  = 'IO      '           / [SPICE name] CB2 name                          \n",
       "SPC2SCX =   -4233783.291900516 / [km] S/C vec wrt CB2, X, EMEJ2000              \n",
       "SPC2SCY =    -3000461.69775487 / [km] S/C vec wrt CB2, Y                        \n",
       "SPC2SCZ =   -1298057.350996673 / [km] S/C vec wrt CB2, Z                        \n",
       "SPC2SCVX=    -25.0459627110942 / [km/s] S/C vel vec wrt CB2, X                  \n",
       "SPC2SCVY=   -15.86410971839685 / [km/s] S/C vel vec wrt CB2, Y                  \n",
       "SPC2SCVZ=    -6.02734499645897 / [km/s] S/C vel vec wrt CB2, Z                  \n",
       "SPC2RANG=    5349078.822465276 / [km] S/C range to CB2 center                   \n",
       "SPC2TGJD= 'JD 2454162.7740573' / [Julian d] Time at CB2, UTC                    \n",
       "SPC2SEP1= '******CB2:  CB2->Sun****************************'                    \n",
       "SPC2SOX =    308473517.3939897 / [km] Sun vec wrt CB2, X, EMEJ2000              \n",
       "SPC2SOY =    681630641.5299462 / [km] Sun vec wrt CB2, Y                        \n",
       "SPC2SOZ =    284678430.2178327 / [km] Sun vec wrt CB2, Z                        \n",
       "SPC2SOVX=   -29.27734457091962 / [km/s] Sun vel vec wrt CB2, X                  \n",
       "SPC2SOVY=    5.048185693265919 / [km/s] Sun vel vec wrt CB2, Y                  \n",
       "SPC2SOVZ=    2.217009046119995 / [km/s] Sun vel vec wrt CB2, Z                  \n",
       "SPC2SORN=    800511118.6218687 / [km] Sun range to CB2 center                   \n",
       "SPC2SEP2= '******CB2:  CB2->EarthObserver****************************'          \n",
       "SPC2EOX =    167110911.5816689 / [km] Earth observer vec wrt CB2, X, EMEJ2000   \n",
       "SPC2EOY =    723187869.4717262 / [km] Earth obs vec wrt CB2, Y                  \n",
       "SPC2EOZ =    302694899.4829311 / [km] Earth obs vec wrt CB2, Z                  \n",
       "SPC2EOVX=   -38.84673893727469 / [km/s] Earth obs vel vec wrt CB2, X            \n",
       "SPC2EOVY=   -21.07231331622518 / [km/s] Earth obs vel vec wrt CB2, Y            \n",
       "SPC2EOVZ=   -9.105936990236907 / [km/s] Earth obs vel vec wrt CB2, Z            \n",
       "SPC2EORN=    801592760.3800403 / [km] Earth observer range to CB2 center        \n",
       "SPC2EOJD= 'JD 2454162.8050043' / [Julian d] Time at Earth observer              \n",
       "SPC2SEPB= '******CB2:  Body-fixed info****************************'             \n",
       "SPC2SCLA=    1.965050525508316 / [degrees] planetocentric Sub-S/C latitude      \n",
       "SPC2SCLO=    130.7841916030378 / [degrees] planetocentric Sub-S/C EAST longitude\n",
       "SPC2SOLA=   -2.933283849273574 / [degrees] planetocentric Sub-Solar latitude    \n",
       "SPC2SOLO=    340.4622133403877 / [degrees] planetocentric Sub-Solar EAST long.  \n",
       "SPC2NAZ =    90.78899114401274 / [degrees] CB2 North Azimuth, CW from UP        \n",
       "SPC3SEP0= '******CB3:  CB3->S/C****************************'                    \n",
       "SPC3CB  = 'EUROPA  '           / [SPICE name] CB3 name                          \n",
       "SPC3SCX =    -4248390.87890847 / [km] S/C vec wrt CB3, X, EMEJ2000              \n",
       "SPC3SCY =   -2767366.985632797 / [km] S/C vec wrt CB3, Y                        \n",
       "SPC3SCZ =   -1187894.721440814 / [km] S/C vec wrt CB3, Z                        \n",
       "SPC3SCVX=   -21.28900364982395 / [km/s] S/C vel vec wrt CB3, X                  \n",
       "SPC3SCVY=   -16.70153785936566 / [km/s] S/C vel vec wrt CB3, Y                  \n",
       "SPC3SCVZ=   -6.230195893375756 / [km/s] S/C vel vec wrt CB3, Z                  \n",
       "SPC3RANG=      5207517.5431668 / [km] S/C range to CB3 center                   \n",
       "SPC3TGJD= 'JD 2454162.7740627' / [Julian d] Time at CB3, UTC                    \n",
       "SPC3SEP1= '******CB3:  CB3->Sun****************************'                    \n",
       "SPC3SOX =     308449569.746989 / [km] Sun vec wrt CB3, X, EMEJ2000              \n",
       "SPC3SOY =    681867473.3339702 / [km] Sun vec wrt CB3, Y                        \n",
       "SPC3SOZ =    284789760.1777734 / [km] Sun vec wrt CB3, Z                        \n",
       "SPC3SOVX=   -25.52038546167947 / [km/s] Sun vel vec wrt CB3, X                  \n",
       "SPC3SOVY=    4.210758052921167 / [km/s] Sun vel vec wrt CB3, Y                  \n",
       "SPC3SOVZ=    2.014158388990765 / [km/s] Sun vel vec wrt CB3, Z                  \n",
       "SPC3SORN=    800743152.1843125 / [km] Sun range to CB3 center                   \n",
       "SPC3SEP2= '******CB3:  CB3->EarthObserver****************************'          \n",
       "SPC3EOX =    167106328.4121179 / [km] Earth observer vec wrt CB3, X, EMEJ2000   \n",
       "SPC3EOY =    723418801.7337338 / [km] Earth obs vec wrt CB3, Y                  \n",
       "SPC3EOZ =    302804550.7960268 / [km] Earth obs vec wrt CB3, Z                  \n",
       "SPC3EOVX=   -35.08977237960532 / [km/s] Earth obs vel vec wrt CB3, X            \n",
       "SPC3EOVY=   -21.90974314194165 / [km/s] Earth obs vel vec wrt CB3, Y            \n",
       "SPC3EOVZ=   -9.308788594021681 / [km/s] Earth obs vel vec wrt CB3, Z            \n",
       "SPC3EORN=    801841557.7157582 / [km] Earth observer range to CB3 center        \n",
       "SPC3EOJD= 'JD 2454162.8050194' / [Julian d] Time at Earth observer              \n",
       "SPC3SEPB= '******CB3:  Body-fixed info****************************'             \n",
       "SPC3SCLA=    1.564311714248317 / [degrees] planetocentric Sub-S/C latitude      \n",
       "SPC3SCLO=    124.8294277065411 / [degrees] planetocentric Sub-S/C EAST longitude\n",
       "SPC3SOLA=   -2.694122168269053 / [degrees] planetocentric Sub-Solar latitude    \n",
       "SPC3SOLO=    336.8474867433223 / [degrees] planetocentric Sub-Solar EAST long.  \n",
       "SPC3NAZ =    91.09790664938915 / [degrees] CB3 North Azimuth, CW from UP        \n",
       "SPCSEPS = '******S/C->SUN****************************************'              \n",
       "SPCSSCX =    312635300.9236544 / [km] Sun vec wrt S/C observer, X, EMEJ2000     \n",
       "SPCSSCY =    684658924.3396858 / [km] Sun vec wrt S/C obs, Y                    \n",
       "SPCSSCZ =     285988386.139349 / [km] Sun vec wrt S/C obs, Z                    \n",
       "SPCSSCVX=    -4.23138180706071 / [km/s] Sun obs vel vec wrt S/C obs, X          \n",
       "SPCSSCVY=    20.91229617420019 / [km/s] Sun vel vec wrt S/C obs, Y              \n",
       "SPCSSCVZ=    8.244354407021406 / [km/s] Sun vel vec wrt S/C obs, Z              \n",
       "SPCSSCRN=    805163356.7594771 / [km] S/C observer range to sun center          \n",
       "SPCSSCJD= 'JD 2454162.7431789' / [Julian d] Time at Sun                         \n",
       "SPCSEPE = '******EARTH->S/C****************************************'            \n",
       "SPCESCX =   -171473601.5482978 / [km] S/C observer vec wrt earth, X, EMEJ2000   \n",
       "SPCESCY =   -726312920.9007869 / [km] S/C obs vec wrt earth, Y                  \n",
       "SPCESCZ =   -304046899.3279517 / [km] S/C obs vec wrt earth, Z                  \n",
       "SPCESCVX=    13.83133929712089 / [km/s] S/C obs vel vec wrt earth, X            \n",
       "SPCESCVY=     5.19921997595215 / [km/s] S/C obs vel vec wrt earth, Y            \n",
       "SPCESCVZ=    3.074700548637148 / [km/s] S/C obs vel vec wrt earth, Z            \n",
       "SPCESCRN=    805840041.2528026 / [km] S/C observer range to earth center        \n",
       "SPCESCJD= 'JD 2454162.7431527' / [Julian d] Time at Earth                       \n",
       "SPCKSEP = '******SPICE KERNELS*************************************'            \n",
       "SPCKNUM =                   26 / COUNT OF LOADED SPICE KERNELS:                 \n",
       "SPCK0001= 'naif0008.tls'       / SPICE kernel 0001                              \n",
       "SPCK0002= 'new-horizons_371.tsc' / SPICE kernel 0002                            \n",
       "SPCK0003= 'pck00008.tpc'       / SPICE kernel 0003                              \n",
       "SPCK0004= 'nh_v200.tf'         / SPICE kernel 0004                              \n",
       "SPCK0005= 'nh_allinstruments_v001.ti' / SPICE kernel 0005                       \n",
       "SPCK0006= 'nh_alice_v110.ti'   / SPICE kernel 0006                              \n",
       "SPCK0007= 'nh_lorri_v100.ti'   / SPICE kernel 0007                              \n",
       "SPCK0008= 'nh_pepssi_v110.ti'  / SPICE kernel 0008                              \n",
       "SPCK0009= 'nh_ralph_v100.ti'   / SPICE kernel 0009                              \n",
       "SPCK0010= 'nh_rex_v100.ti'     / SPICE kernel 0010                              \n",
       "SPCK0011= 'nh_sdc_v101.ti'     / SPICE kernel 0011                              \n",
       "SPCK0012= 'nh_swap_v100.ti'    / SPICE kernel 0012                              \n",
       "SPCK0013= 'nh_soc_misc_v001.tf' / SPICE kernel 0013                             \n",
       "SPCK0014= 'sb-2002jf56-2.bsp'  / SPICE kernel 0014                              \n",
       "SPCK0015= 'jup260.bsp'         / SPICE kernel 0015                              \n",
       "SPCK0016= 'plu013.bsp'         / SPICE kernel 0016                              \n",
       "SPCK0017= 'nh_nep_ura_000.bsp' / SPICE kernel 0017                              \n",
       "SPCK0018= 'de413.bsp'          / SPICE kernel 0018                              \n",
       "SPCK0019= 'nh_recon_e2j_v1.bsp' / SPICE kernel 0019                             \n",
       "SPCK0020= 'nh_recon_j2sep07_prelimv1.bsp' / SPICE kernel 0020                   \n",
       "SPCK0021= 'merged_nhpc_2006_v011.bc' / SPICE kernel 0021                        \n",
       "SPCK0022= 'merged_nhpc_2007_v006.bc' / SPICE kernel 0022                        \n",
       "SPCK0023= 'merged_nhpc_2008_01_v007.bc' / SPICE kernel 0023                     \n",
       "SPCK0024= 'merged_nhpc_2008_02_v003.bc' / SPICE kernel 0024                     \n",
       "SPCK0025= 'merged_nhpc_2008_05_v007.bc' / SPICE kernel 0025                     \n",
       "SPCK0026= 'merged_nhpc_2008_06_v001.bc' / SPICE kernel 0026                     \n",
       "PACMMNT0= '*** Position angles (PAs):  XYZ axes, degrees east of EMEJ2k North'  \n",
       "PACMMNT1= '***   on plane perpendicular to boresight; -999 => Boresight'        \n",
       "PA_XINST=               -999.0 / [degrees] PA +X, East of EMEJ2k North          \n",
       "PA_YINST=     71.6334584106649 / [degrees] PA +Y, East of EMEJ2k North          \n",
       "PA_ZINST=    161.6334584106649 / [degrees] PA +Z, East of EMEJ2k North          \n",
       "HIGHSSEP= '********************************************************'            \n",
       "WINDOWX =                    0 / X origin of window                             \n",
       "WINDOWY =                    0 / Y origin of window                             \n",
       "WINDOWW =                  256 / Window width                                   \n",
       "WINDOWH =                  256 / Window height                                  \n",
       "CPLANE  =                    0 / Color/plane number                             \n",
       "RALPHSEP= '********************************************************'            \n",
       "MET510  =             35209319 / MET of 0x510 packet marking acq start          \n",
       "TRUE510 = 'YES     '           / Is the 0x510 real or assumed from a gap?       \n",
       "RALPHEXP=                0.746 / RALPH exposure time (s)                        \n",
       "INSTSSEP= '********************************************************'            \n",
       "DETECTOR= 'LEISA   '           / CCD detector used                              \n",
       "FILTER  = 'WEDGE   '           / CCD filter color                               \n",
       "SCANTYPE= 'LEISA   '           / Type of scan done                              \n",
       "HK_STATE=                    1                                                  \n",
       "HK_MODE =                   18                                                  \n",
       "HK_SIDE =                    1                                                  \n",
       "TDI_RATE=                    0                                                  \n",
       "LEI_RATE=                  746                                                  \n",
       "LEI_TEMP=                -4309                                                  \n",
       "LEI_OFF1=                 3055                                                  \n",
       "LEI_OFF2=                 3050                                                  \n",
       "LEI_OFF3=                 3056                                                  \n",
       "LEI_OFF4=                 3050                                                  \n",
       "LEI_MODE= 'SUBTRACTED'         / Instrument mode                                \n",
       "LEI_SIDE= 'A       '           / Instrument HW side                             "
      ]
     },
     "execution_count": 10,
     "metadata": {},
     "output_type": "execute_result"
    }
   ],
   "source": [
    "data, hdr = pyfits.getdata(fits_file, 0, header=True)\n",
    "hdr"
   ]
  },
  {
   "cell_type": "code",
   "execution_count": 11,
   "metadata": {
    "collapsed": false
   },
   "outputs": [
    {
     "data": {
      "text/plain": [
       "(792, 256, 256)"
      ]
     },
     "execution_count": 11,
     "metadata": {},
     "output_type": "execute_result"
    }
   ],
   "source": [
    "np.shape(data)"
   ]
  },
  {
   "cell_type": "code",
   "execution_count": 48,
   "metadata": {
    "collapsed": false
   },
   "outputs": [
    {
     "data": {
      "image/png": "[encoded data removed]",
      "text/plain": [
       "<matplotlib.figure.Figure at 0x121fc5650>"
      ]
     },
     "metadata": {},
     "output_type": "display_data"
    }
   ],
   "source": [
    "%matplotlib inline\n",
    "plt.plot(np.ravel(data[:,100,100]))\n",
    "plt.ylim((0,2e13))\n",
    "plt.show()"
   ]
  },
  {
   "cell_type": "code",
   "execution_count": 45,
   "metadata": {
    "collapsed": false
   },
   "outputs": [
    {
     "data": {
      "image/png": "[encoded data removed]",
      "text/plain": [
       "<matplotlib.figure.Figure at 0x12202ac50>"
      ]
     },
     "metadata": {},
     "output_type": "display_data"
    }
   ],
   "source": [
    "plt.plot(np.ravel(data[100,:,100]))\n",
    "plt.show()"
   ]
  },
  {
   "cell_type": "code",
   "execution_count": 46,
   "metadata": {
    "collapsed": false
   },
   "outputs": [
    {
     "data": {
      "text/plain": [
       "[<matplotlib.lines.Line2D at 0x121d13ed0>]"
      ]
     },
     "execution_count": 46,
     "metadata": {},
     "output_type": "execute_result"
    },
    {
     "data": {
      "image/png": "[encoded data removed]",
      "text/plain": [
       "<matplotlib.figure.Figure at 0x122036810>"
      ]
     },
     "metadata": {},
     "output_type": "display_data"
    }
   ],
   "source": [
    "plt.plot(np.ravel(data[100,100,:]))"
   ]
  },
  {
   "cell_type": "markdown",
   "metadata": {},
   "source": [
    "The [official spec](http://new-pds-rings-2.seti.org/newhorizons/SOC_INST_ICD.PDF) for the LEISA instrument says that pixels are BIL, using (X, Y, Z) as 256,256,N where X, Y, Z are wavelength, at X-offset, in the Nth frame. Since FITS files are created/written w/IDL, Fortran conventions (column major instead of row major) and numpy is (w/o changing args/using keywords) row major, I think the correct interpretation of this is frame, X-offset, wavelength.\n",
    "\n",
    "This looks consistent with calibrated radiance-ish -- in that it looks biases in a black-body-ish way (except the extra radiance towards the higher wavelengths)."
   ]
  },
  {
   "cell_type": "code",
   "execution_count": 49,
   "metadata": {
    "collapsed": false
   },
   "outputs": [
    {
     "data": {
      "text/plain": [
       "(2, 256, 256)"
      ]
     },
     "execution_count": 49,
     "metadata": {},
     "output_type": "execute_result"
    }
   ],
   "source": [
    "wls, wl_hdr = pyfits.getdata(fits_file, 1, header=True)\n",
    "np.shape(wls)"
   ]
  },
  {
   "cell_type": "code",
   "execution_count": 61,
   "metadata": {
    "collapsed": false
   },
   "outputs": [
    {
     "data": {
      "text/plain": [
       "array([ 2.49448347,  2.48605704,  2.47762823,  2.46919775,  2.46076703,\n",
       "        2.45233655,  2.44390774,  2.43548131,  2.42705822,  2.41863942,\n",
       "        2.41022563,  2.40181828,  2.3934176 ,  2.38502479,  2.37664056,\n",
       "        2.36826587,  2.35990143,  2.35154796,  2.34320641,  2.33487725,\n",
       "        2.32656145,  2.31825972,  2.30997276,  2.30170107,  2.29344535,\n",
       "        2.28520632,  2.27698469,  2.26878095,  2.2605958 ,  2.25242996,\n",
       "        2.24428344,  2.23615742,  2.2280519 ,  2.21996784,  2.21190548,\n",
       "        2.20386529,  2.19584775,  2.18785357,  2.17988276,  2.17193604,\n",
       "        2.16401362,  2.15611625,  2.14824367,  2.14039683,  2.13257575,\n",
       "        2.12478089,  2.11701226,  2.10927057,  2.10155582,  2.09386849,\n",
       "        2.08620858,  2.07857633,  2.07097197,  2.06339598,  2.05584812,\n",
       "        2.04832911,  2.04083848,  2.03337669,  2.02594399,  2.01854014,\n",
       "        2.01116562,  2.00382042,  1.99650431,  1.98921776,  1.98196054,\n",
       "        1.97473288,  1.96753478,  1.96036601,  1.95322692,  1.94611728,\n",
       "        1.93903708,  1.93198645,  1.92496514,  1.91797316,  1.9110105 ,\n",
       "        1.90407693,  1.89717257,  1.89029729,  1.88345087,  1.87663329,\n",
       "        1.86984432,  1.86308396,  1.85635185,  1.84964812,  1.8429724 ,\n",
       "        1.83632469,  1.82970464,  1.82311213,  1.81654704,  1.81000912,\n",
       "        1.80349815,  1.797014  ,  1.79055631,  1.78412497,  1.77771962,\n",
       "        1.77134025,  1.76498652,  1.75865805,  1.75235474,  1.74607635,\n",
       "        1.73982263,  1.73359323,  1.72738802,  1.72120655,  1.71504879,\n",
       "        1.70891428,  1.7028029 ,  1.69671428,  1.69064808,  1.68460429,\n",
       "        1.67858231,  1.67258215,  1.66660345,  1.66064596,  1.65470934,\n",
       "        1.64879334,  1.64289773,  1.63702226,  1.6311667 ,  1.62533069,\n",
       "        1.61951399,  1.6137166 ,  1.60793793,  1.60217798,  1.59643638,\n",
       "        1.59071302,  1.58500767,  1.57932007,  1.57365   ,  1.56799734,\n",
       "        1.56236184,  1.55674338,  1.55114162,  1.54555666,  1.53998816,\n",
       "        1.53443599,  1.52890015,  1.52338028,  1.51787663,  1.51238871,\n",
       "        1.50691676,  1.50146055,  1.49601996,  1.4905951 ,  1.48518586,\n",
       "        1.47979236,  1.47441435,  1.46905208,  1.46370542,  1.45837462,\n",
       "        1.45305955,  1.44776046,  1.44247723,  1.43721032,  1.43195951,\n",
       "        1.42672527,  1.42150772,  1.41630697,  1.41112328,  1.40595686,\n",
       "        1.40080822,  1.39567733,  1.3905648 ,  1.38547087,  1.38039577,\n",
       "        1.37534022,  1.37030435,  1.36528873,  1.36029387,  1.35532033,\n",
       "        1.3503685 ,  1.34543896,  1.34053242,  1.33564949,  1.33079088,\n",
       "        1.32595718,  1.32114911,  1.31636739,  1.31161296,  1.30688667,\n",
       "        1.30218911,  1.29752147,  1.29288459,  1.28827941,  1.2837069 ,\n",
       "        1.27916825,  1.2746644 ,  1.27019644,  1.26576579,  1.2613734 ,\n",
       "        1.25702071,  1.25270891,  1.24843931,  1.24421322,  1.24003232,\n",
       "        1.2358979 ,  1.23181152,  1.22777462,  1.22378898,  1.21985614,\n",
       "        2.26205564,  2.25878906,  2.25552678,  2.25226879,  2.24901485,\n",
       "        2.24576521,  2.24251986,  2.23927855,  2.23604178,  2.23280907,\n",
       "        2.22958064,  2.22635627,  2.22313643,  2.21992064,  2.21670914,\n",
       "        2.21350193,  2.21029878,  2.20710015,  2.20390558,  2.2007153 ,\n",
       "        2.19752908,  2.19434738,  2.19116974,  2.18799639,  2.18482709,\n",
       "        2.18166232,  2.17850161,  2.17534518,  2.17219305,  2.16904521,\n",
       "        2.16590142,  2.16276193,  2.15962672,  2.15649581,  2.15336895,\n",
       "        2.15024638,  2.14712811,  2.14401412,  2.14090443,  2.13779879,\n",
       "        2.13469744,  2.13160038,  2.12850761,  2.1254189 ,  2.12233448,\n",
       "        2.11925435,  2.11617851,  2.11310697,  2.11003947,  2.10697627,\n",
       "        2.10391736,  2.1008625 ,  2.09781218,  2.0947659 ,  2.09172392,\n",
       "        2.08868623], dtype=float32)"
      ]
     },
     "execution_count": 61,
     "metadata": {},
     "output_type": "execute_result"
    }
   ],
   "source": [
    "# the first band of this is supposed to be center wavelengths, though I'm not sure about the ordering\n",
    "# this does look like this direction (slice of index 1) encompasses a range of wavelengths.\n",
    "wls[0, :, 0]"
   ]
  },
  {
   "cell_type": "code",
   "execution_count": 62,
   "metadata": {
    "collapsed": false
   },
   "outputs": [
    {
     "data": {
      "text/plain": [
       "array([ 2.49448347,  2.49452114,  2.49454188,  2.49454689,  2.49453759,\n",
       "        2.49451518,  2.49448109,  2.49443603,  2.49438119,  2.49431753,\n",
       "        2.49424577,  2.49416685,  2.4940815 ,  2.49399042,  2.4938941 ,\n",
       "        2.49379349,  2.49368858,  2.49358034,  2.493469  ,  2.49335504,\n",
       "        2.49323893,  2.49312067,  2.49300098,  2.49288011,  2.49275804,\n",
       "        2.49263525,  2.49251175,  2.49238777,  2.49226379,  2.49213958,\n",
       "        2.49201536,  2.49189115,  2.49176717,  2.49164367,  2.4915204 ,\n",
       "        2.49139738,  2.49127507,  2.491153  ,  2.49103165,  2.49091077,\n",
       "        2.49079037,  2.49067068,  2.49055147,  2.49043298,  2.49031472,\n",
       "        2.49019742,  2.49008036,  2.48996401,  2.4898479 ,  2.48973274,\n",
       "        2.48961782,  2.48950338,  2.48938942,  2.48927617,  2.48916316,\n",
       "        2.48905063,  2.48893857,  2.48882723,  2.48871613,  2.4886055 ,\n",
       "        2.48849535,  2.48838568,  2.48827672,  2.488168  ,  2.48806   ,\n",
       "        2.48795223,  2.48784542,  2.48773885,  2.48763323,  2.48752809,\n",
       "        2.48742366,  2.48731995,  2.48721695,  2.48711467,  2.48701334,\n",
       "        2.48691273,  2.48681307,  2.48671436,  2.48661685,  2.48652029,\n",
       "        2.48642468,  2.48633051,  2.48623729,  2.4861455 ,  2.48605514,\n",
       "        2.48596597,  2.48587823,  2.48579192,  2.48570728,  2.48562431,\n",
       "        2.48554301,  2.48546338,  2.48538542,  2.4853096 ,  2.48523545,\n",
       "        2.48516321,  2.48509312,  2.48502517,  2.48495913,  2.48489547,\n",
       "        2.48483396,  2.48477459,  2.48471785,  2.48466325,  2.48461103,\n",
       "        2.48456144,  2.48451447,  2.48446989,  2.48442793,  2.48438859,\n",
       "        2.48435187,  2.48431802,  2.48428679,  2.48425817,  2.48423266,\n",
       "        2.48420978,  2.48418951,  2.48417234,  2.48415804,  2.48414636,\n",
       "        2.48413777,  2.48413205,  2.48412919,  2.48412919,  2.48413205,\n",
       "        2.48413777,  2.48414636,  2.4841578 ,  2.48417211,  2.48418927,\n",
       "        2.4842093 ,  2.48423195,  2.48425746,  2.48428559,  2.48431659,\n",
       "        2.4843502 ,  2.48438621,  2.48442507,  2.48446655,  2.48451042,\n",
       "        2.48455667,  2.48460555,  2.48465657,  2.48470998,  2.48476577,\n",
       "        2.48482394,  2.48488402,  2.48494649,  2.48501086,  2.48507714,\n",
       "        2.48514557,  2.4852159 ,  2.4852879 ,  2.48536205,  2.48543763,\n",
       "        2.48551488,  2.48559403,  2.48567438,  2.48575664,  2.48584008,\n",
       "        2.48592496,  2.48601127,  2.48609877,  2.4861877 ,  2.48627758,\n",
       "        2.48636889,  2.48646092,  2.48655438,  2.4866488 ,  2.48674393,\n",
       "        2.48684025,  2.48693752,  2.48703551,  2.48713446,  2.48723412,\n",
       "        2.48733449,  2.48743582,  2.48753786,  2.48764062,  2.48774409,\n",
       "        2.48784828,  2.48795319,  2.48805904,  2.48816538,  2.48827243,\n",
       "        2.48838019,  2.48848891,  2.48859835,  2.4887085 ,  2.48881936,\n",
       "        2.48893118,  2.48904395,  2.48915768,  2.48927212,  2.48938775,\n",
       "        2.48950434,  2.48962212,  2.48974109,  2.48986101,  2.48998237,\n",
       "        2.49010515,  2.49022913,  2.49035454,  2.49048138,  2.49060988,\n",
       "        2.49073982,  2.49087167,  2.49100494,  2.49114013,  2.49127722,\n",
       "        2.49141598,  2.49155664,  2.49169946,  2.49184394,  2.49199057,\n",
       "        2.4921391 ,  2.49228978,  2.49244213,  2.49259663,  2.49275303,\n",
       "        2.49291134,  2.49307132,  2.49323297,  2.49339604,  2.49356079,\n",
       "        2.49372673,  2.49389386,  2.49406171,  2.49423027,  2.49439907,\n",
       "        2.49456811,  2.49473667,  2.49490476,  2.49507165,  2.49523687,\n",
       "        2.49540019,  2.49556088,  2.49571824,  2.49587178,  2.49602056,\n",
       "        2.49616408,  2.49630117,  2.49643135,  2.49655318,  2.49666572,\n",
       "        2.496768  ,  2.49685884,  2.49693656,  2.49700022,  2.4970479 ,\n",
       "        2.49707794,  2.49708915,  2.49707913,  2.49704599,  2.49698782,\n",
       "        2.49690199], dtype=float32)"
      ]
     },
     "execution_count": 62,
     "metadata": {},
     "output_type": "execute_result"
    }
   ],
   "source": [
    "# and this one looks like slight variation in real wavelength center across pixels that\n",
    "# should roughly be in the same wavelength range.\n",
    "wls[0, 0, :]"
   ]
  },
  {
   "cell_type": "code",
   "execution_count": 54,
   "metadata": {
    "collapsed": false
   },
   "outputs": [
    {
     "data": {
      "text/plain": [
       "XTENSION= 'IMAGE   '           / IMAGE extension                                \n",
       "BITPIX  =                  -32 / number of bits per data pixel                  \n",
       "NAXIS   =                    3 / number of data axes                            \n",
       "NAXIS1  =                  256 / length of data axis 1                          \n",
       "NAXIS2  =                  256 / length of data axis 2                          \n",
       "NAXIS3  =                    2 / length of data axis 3                          \n",
       "PCOUNT  =                    0 / required keyword; must = 0                     \n",
       "GCOUNT  =                    1 / required keyword; must = 1                     \n",
       "EXTNAME = 'WAVELENGTHS'        / extension name                                 "
      ]
     },
     "execution_count": 54,
     "metadata": {},
     "output_type": "execute_result"
    }
   ],
   "source": [
    "wl_hdr"
   ]
  },
  {
   "cell_type": "markdown",
   "metadata": {},
   "source": [
    "FITS data can be so strange. You might think \"-32\" would be a signed 32-bit integer, but this is floating point."
   ]
  },
  {
   "cell_type": "code",
   "execution_count": 78,
   "metadata": {
    "collapsed": false
   },
   "outputs": [
    {
     "data": {
      "text/plain": [
       "[<matplotlib.lines.Line2D at 0x125cd06d0>]"
      ]
     },
     "execution_count": 78,
     "metadata": {},
     "output_type": "execute_result"
    },
    {
     "data": {
      "image/png": "[encoded data removed]",
      "text/plain": [
       "<matplotlib.figure.Figure at 0x125bcc990>"
      ]
     },
     "metadata": {},
     "output_type": "display_data"
    }
   ],
   "source": [
    "# ok, let's see if we can plot a spectrum. Ordering will probably be sort of strange\n",
    "# based on what we've seen.\n",
    "plt.plot(np.ravel(wls[0,:,100]), np.ravel(data[100,0,:]))"
   ]
  },
  {
   "cell_type": "markdown",
   "metadata": {},
   "source": [
    "Ok, this is an ok candidate for a spectrum. There's something of a glitchy looking line of odd (false?) contiguity across wavelengths in the above plot, maybe correctable w/a sort, but this looks reasonable as a spectrum prior to the application of gains and offsets. The [spec](http://new-pds-rings-2.seti.org/newhorizons/SOC_INST_ICD.PDF) shows that we have a dataset in the FITS file of gains and offsets as well as a map of bad pixels that can be used as a mask. Lets look at applying these.\n",
    "\n",
    "**Note**: I could still be completely wrong at this point."
   ]
  },
  {
   "cell_type": "code",
   "execution_count": 73,
   "metadata": {
    "collapsed": false
   },
   "outputs": [
    {
     "data": {
      "text/plain": [
       "(XTENSION= 'IMAGE   '           / IMAGE extension                                \n",
       " BITPIX  =                  -32 / number of bits per data pixel                  \n",
       " NAXIS   =                    3 / number of data axes                            \n",
       " NAXIS1  =                  256 / length of data axis 1                          \n",
       " NAXIS2  =                  256 / length of data axis 2                          \n",
       " NAXIS3  =                    2 / length of data axis 3                          \n",
       " PCOUNT  =                    0 / required keyword; must = 0                     \n",
       " GCOUNT  =                    1 / required keyword; must = 1                     \n",
       " EXTNAME = 'CALIBRATION'        / extension name                                 ,\n",
       " (2, 256, 256))"
      ]
     },
     "execution_count": 73,
     "metadata": {},
     "output_type": "execute_result"
    }
   ],
   "source": [
    "gain_offset, go_hdr = pyfits.getdata(fits_file, 4, header=True)\n",
    "(go_hdr, np.shape(gain_offset))"
   ]
  },
  {
   "cell_type": "markdown",
   "metadata": {},
   "source": [
    "The general strategy to apply gains and offsets is this basic equation:\n",
    "\n",
    "rad_cal = gain \\* DN + offset\n",
    "\n",
    "It's fairly trivial to adapt this to Python"
   ]
  },
  {
   "cell_type": "code",
   "execution_count": 79,
   "metadata": {
    "collapsed": true
   },
   "outputs": [],
   "source": [
    "def cal(DN, gain, offset):\n",
    "    return gain*DN + offset"
   ]
  },
  {
   "cell_type": "code",
   "execution_count": 80,
   "metadata": {
    "collapsed": true
   },
   "outputs": [],
   "source": [
    "# with operator overloading for ndarrays in numpy, we can apply this across the arrays.\n",
    "cal_data = cal(data[0,:,:], gain_offset[0,:,:], gain_offset[1,:,:])"
   ]
  },
  {
   "cell_type": "code",
   "execution_count": 92,
   "metadata": {
    "collapsed": false
   },
   "outputs": [
    {
     "data": {
      "text/plain": [
       "((792, 256, 256), (792, 256, 256))"
      ]
     },
     "execution_count": 92,
     "metadata": {},
     "output_type": "execute_result"
    }
   ],
   "source": [
    "# really, though, we want to apply this to each frame. this is the kind of thing that's trivial\n",
    "# to express w/a list of frames, harder w/an ND array. \n",
    "cal_all_data = np.zeros_like(data)\n",
    "(np.shape(cal_all_data,), np.shape(data))"
   ]
  },
  {
   "cell_type": "code",
   "execution_count": 114,
   "metadata": {
    "collapsed": true
   },
   "outputs": [],
   "source": [
    "# Populate cal_all_data image cube. We could probably replace this w/a vectorized operation,\n",
    "# but this solves it and I don't have a perf requirement to optimize this -- yet.\n",
    "for i in range(np.shape(cal_all_data)[0]):\n",
    "    cal_all_data[i] = cal(data[i,:,:], gain_offset[1,:,:], gain_offset[0,:,:])"
   ]
  },
  {
   "cell_type": "code",
   "execution_count": 124,
   "metadata": {
    "collapsed": false
   },
   "outputs": [
    {
     "data": {
      "image/png": "[encoded data removed]",
      "text/plain": [
       "<matplotlib.figure.Figure at 0x1337bf810>"
      ]
     },
     "metadata": {},
     "output_type": "display_data"
    }
   ],
   "source": [
    "# ok this result looks really smooth, but doesn't have the features you'd expect\n",
    "# for a spectrum (fine absorption and emissivity features)\n",
    "plt.plot(cal_all_data[0,250,:])\n",
    "plt.show()"
   ]
  },
  {
   "cell_type": "code",
   "execution_count": 126,
   "metadata": {
    "collapsed": false
   },
   "outputs": [
    {
     "data": {
      "text/plain": [
       "[<matplotlib.lines.Line2D at 0x133ad32d0>]"
      ]
     },
     "execution_count": 126,
     "metadata": {},
     "output_type": "execute_result"
    },
    {
     "data": {
      "image/png": "[encoded data removed]",
      "text/plain": [
       "<matplotlib.figure.Figure at 0x1339f90d0>"
      ]
     },
     "metadata": {},
     "output_type": "display_data"
    }
   ],
   "source": [
    "plt.plot(wls[0,:,250], cal_all_data[0,250,:])"
   ]
  },
  {
   "cell_type": "markdown",
   "metadata": {},
   "source": [
    "I can't really determine anything from this. I want the wavelengths in order. This is\n",
    "where `numpy.argsort` comes in - it returns indices we can use to sort multiple arrays."
   ]
  },
  {
   "cell_type": "code",
   "execution_count": 130,
   "metadata": {
    "collapsed": false
   },
   "outputs": [
    {
     "data": {
      "text/plain": [
       "[<matplotlib.lines.Line2D at 0x133c09a50>]"
      ]
     },
     "execution_count": 130,
     "metadata": {},
     "output_type": "execute_result"
    },
    {
     "data": {
      "image/png": "[encoded data removed]",
      "text/plain": [
       "<matplotlib.figure.Figure at 0x133b12590>"
      ]
     },
     "metadata": {},
     "output_type": "display_data"
    }
   ],
   "source": [
    "sort_i = np.argsort(np.ravel(wls[0,:,250]))\n",
    "plt.plot(wls[0,sort_i,250], cal_all_data[0,250,sort_i])"
   ]
  },
  {
   "cell_type": "markdown",
   "metadata": {},
   "source": [
    "In retrospect, the outcome of the sort should have been fairly obvious."
   ]
  },
  {
   "cell_type": "code",
   "execution_count": 135,
   "metadata": {
    "collapsed": false
   },
   "outputs": [
    {
     "data": {
      "image/png": "[encoded data removed]",
      "text/plain": [
       "<matplotlib.figure.Figure at 0x134093690>"
      ]
     },
     "metadata": {},
     "output_type": "display_data"
    }
   ],
   "source": [
    "# ok, so my earlier assumption was wrong. Shouldn't draw conclusions from uncalibrated data!\n",
    "# this matching calibration looks ok, but I'm not really sure what I'm looking at (other than\n",
    "# that it looks like an inverted sigmoid).\n",
    "plt.plot(wls[0,sort_i,250], cal_all_data[0,sort_i,5])\n",
    "plt.show()"
   ]
  },
  {
   "cell_type": "code",
   "execution_count": 137,
   "metadata": {
    "collapsed": false
   },
   "outputs": [
    {
     "data": {
      "image/png": "[encoded data removed]",
      "text/plain": [
       "<matplotlib.figure.Figure at 0x133e6f050>"
      ]
     },
     "metadata": {},
     "output_type": "display_data"
    }
   ],
   "source": [
    "plt.plot(wls[0,sort_i,250], cal_all_data[100,sort_i,5])\n",
    "plt.show()"
   ]
  },
  {
   "cell_type": "code",
   "execution_count": 146,
   "metadata": {
    "collapsed": false
   },
   "outputs": [
    {
     "data": {
      "image/png": "[encoded data removed]",
      "text/plain": [
       "<matplotlib.figure.Figure at 0x134bc9350>"
      ]
     },
     "metadata": {},
     "output_type": "display_data"
    }
   ],
   "source": [
    "plt.imshow(cal_all_data[:,50,:], cmap='bone')\n",
    "plt.title(\"Image at ~wavelength \" + str(np.mean(wls[0,50,:])))\n",
    "plt.show()"
   ]
  },
  {
   "cell_type": "markdown",
   "metadata": {},
   "source": [
    "I think this may be the image portion, but I'm pretty out of my depth here and I think I need a new strategy. Let me summarize the outcome of this session:\n",
    "\n",
    "* I was apply to apply gains and offsets in a way that looks correct, due to the smoothness of the outcome.\n",
    "* I was able to determine where the spectral information was (in retrospect, this matches the BIL description, but not the ordering of the spec - which I'm probably reading incorrectly).\n",
    "* I believe I can display images at wavelengths, but as I'm not completely certain what I'm looking at, it's difficult to verify. A roughness of fit w/my Geo vs. Astro background.\n",
    "\n",
    "This is point where I think it's worth calling it quits and looking to match to a dataset with a published image or something where I can match a specific outcome, then return to more \"play\" with the data."
   ]
  }
 ],
 "metadata": {
  "kernelspec": {
   "display_name": "Python 2",
   "language": "python",
   "name": "python2"
  },
  "language_info": {
   "codemirror_mode": {
    "name": "ipython",
    "version": 2
   },
   "file_extension": ".py",
   "mimetype": "text/x-python",
   "name": "python",
   "nbconvert_exporter": "python",
   "pygments_lexer": "ipython2",
   "version": "2.7.10"
  }
 },
 "nbformat": 4,
 "nbformat_minor": 0
}
